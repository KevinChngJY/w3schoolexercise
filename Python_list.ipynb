{
 "cells": [
  {
   "cell_type": "markdown",
   "metadata": {},
   "source": [
    "List"
   ]
  },
  {
   "cell_type": "markdown",
   "metadata": {},
   "source": [
    "1) What a python program to multiples all the items in a list"
   ]
  },
  {
   "cell_type": "code",
   "execution_count": 3,
   "metadata": {},
   "outputs": [
    {
     "data": {
      "text/plain": [
       "720"
      ]
     },
     "metadata": {},
     "output_type": "display_data"
    }
   ],
   "source": [
    "import numpy as np\n",
    "\n",
    "a= np.array([1,2,3,4,5,6])\n",
    "k=np.prod(np.array(a))\n",
    "display(k)"
   ]
  },
  {
   "cell_type": "markdown",
   "metadata": {},
   "source": [
    "2) Write Python program to get the largest number in a list"
   ]
  },
  {
   "cell_type": "code",
   "execution_count": 6,
   "metadata": {},
   "outputs": [
    {
     "data": {
      "text/plain": [
       "'Maximum Number is'"
      ]
     },
     "metadata": {},
     "output_type": "display_data"
    },
    {
     "data": {
      "text/plain": [
       "5"
      ]
     },
     "metadata": {},
     "output_type": "display_data"
    },
    {
     "name": "stdout",
     "output_type": "stream",
     "text": [
      "Maximum number is 5!!\n"
     ]
    }
   ],
   "source": [
    "k = [1,2,3,4,5]\n",
    "w = max(k)\n",
    "display('Maximum Number is',w)\n",
    "print (\"Maximum number is {}!!\".format(w))"
   ]
  },
  {
   "cell_type": "markdown",
   "metadata": {},
   "source": [
    "3) Write a python program to get the smallest number in a list"
   ]
  },
  {
   "cell_type": "code",
   "execution_count": 10,
   "metadata": {},
   "outputs": [
    {
     "name": "stdout",
     "output_type": "stream",
     "text": [
      "The smallest number is 1!\n"
     ]
    }
   ],
   "source": [
    "import numpy as np\n",
    "\n",
    "k = [1,2,3,4,5]\n",
    "w = np.min(np.array(k))\n",
    "print(\"The smallest number is {}!\".format(w))\n"
   ]
  },
  {
   "cell_type": "markdown",
   "metadata": {},
   "source": [
    "4) write a python program to count the number of strings where the string length is 2 or more and the first and characters are same from a given list of string"
   ]
  },
  {
   "cell_type": "code",
   "execution_count": 12,
   "metadata": {},
   "outputs": [
    {
     "name": "stdout",
     "output_type": "stream",
     "text": [
      "The number of strings is 2\n"
     ]
    }
   ],
   "source": [
    "sample = ['abc','xyz','aba','1121']\n",
    "\n",
    "def match_word(words):\n",
    "    count = 0;\n",
    "    for word in words:\n",
    "        if len(word)>1 and word[0]==word[-1]:\n",
    "            count+=1\n",
    "    \n",
    "    return count\n",
    "\n",
    "answer = match_word(sample)\n",
    "print(\"The number of strings is {}\".format(answer))"
   ]
  },
  {
   "cell_type": "markdown",
   "metadata": {},
   "source": [
    "5) Write a python program to get a list, sorted in increasing order by the last element in each tuple form a given list of non-empty tuples."
   ]
  },
  {
   "cell_type": "code",
   "execution_count": 16,
   "metadata": {},
   "outputs": [
    {
     "name": "stdout",
     "output_type": "stream",
     "text": [
      "[(1, 2), (1, 2), (2, 3), (4, 4), (2, 5)]\n"
     ]
    }
   ],
   "source": [
    "sample = [(2,5),(1,2),(4,4),(2,3),(1,2)]\n",
    "\n",
    "def last(n):return n[-1]\n",
    "\n",
    "def sorting(n):\n",
    "    return sorted(n,key=last)\n",
    "\n",
    "w = sorting(sample)\n",
    "\n",
    "print(w)"
   ]
  },
  {
   "cell_type": "markdown",
   "metadata": {},
   "source": [
    "6) Write a python program to remove duplicate from a list"
   ]
  },
  {
   "cell_type": "code",
   "execution_count": 18,
   "metadata": {},
   "outputs": [
    {
     "name": "stdout",
     "output_type": "stream",
     "text": [
      "{1, 2, 3, 4, 5}\n"
     ]
    }
   ],
   "source": [
    "k = [1,2,3,4,1,2,3,5]\n",
    "\n",
    "w = set(k)\n",
    "print(w)"
   ]
  },
  {
   "cell_type": "markdown",
   "metadata": {},
   "source": [
    "7) Write a python program to check a list is empty or not"
   ]
  },
  {
   "cell_type": "code",
   "execution_count": 24,
   "metadata": {},
   "outputs": [
    {
     "name": "stdout",
     "output_type": "stream",
     "text": [
      "K : it is not empty\n",
      "K1 : it is not empty\n"
     ]
    }
   ],
   "source": [
    "k = [1,2,3,4]\n",
    "k1 = []\n",
    "def check(n):\n",
    "    if k is None : \n",
    "        return \"it is empty\"\n",
    "    else:\n",
    "        return \"it is not empty\"\n",
    "    \n",
    "print(\"K : {}\".format(check(k)))\n",
    "print(\"K1 : {}\".format(check(k1)))"
   ]
  },
  {
   "cell_type": "markdown",
   "metadata": {},
   "source": [
    "8) Write a python program to clone or copy a list"
   ]
  },
  {
   "cell_type": "code",
   "execution_count": 26,
   "metadata": {},
   "outputs": [
    {
     "name": "stdout",
     "output_type": "stream",
     "text": [
      "method 1: [1, 2, 3, 4, 5]\n",
      "method 2: [1, 2, 3, 4, 5]\n"
     ]
    }
   ],
   "source": [
    "k = [1,2,3,4,5]\n",
    "w = k\n",
    "w1 = list(k)\n",
    "print(\"method 1: {}\".format(w))\n",
    "print(\"method 2: {}\".format(w1))"
   ]
  },
  {
   "cell_type": "markdown",
   "metadata": {},
   "source": [
    "9) Write a Python program to find the list of words that are longer than n from a given list words:"
   ]
  },
  {
   "cell_type": "code",
   "execution_count": 30,
   "metadata": {},
   "outputs": [
    {
     "name": "stdout",
     "output_type": "stream",
     "text": [
      "Word lesser than 3 are ['ni hao ma', 'dweewwe', 'qwerw']\n"
     ]
    }
   ],
   "source": [
    "n = [\"ni hao ma\",\"dweewwe\",\"abc\",\"1\",\"qwerw\"]\n",
    "\n",
    "def longer(n,k):\n",
    "    w = []\n",
    "    for n_i in n:\n",
    "        if len(n_i)>k : \n",
    "            w.append(n_i)\n",
    "    return w\n",
    "\n",
    "nene = longer(n,3)\n",
    "\n",
    "print(\"Word lesser than {} are {}\".format(3,nene))"
   ]
  },
  {
   "cell_type": "markdown",
   "metadata": {},
   "source": [
    "10) Write a Python function that takes two lists and return True if they have at least one common member"
   ]
  },
  {
   "cell_type": "code",
   "execution_count": 38,
   "metadata": {},
   "outputs": [
    {
     "name": "stdout",
     "output_type": "stream",
     "text": [
      "There is common Item\n"
     ]
    }
   ],
   "source": [
    "a = [\"1223\",\"1234\",122]\n",
    "b = [True,\"1223\",\"12211\"]\n",
    "\n",
    "def w(n1,n2):\n",
    "    w=0\n",
    "    for n1_1 in n1:\n",
    "        for n2_1 in n2:\n",
    "            if n1_1 == n2_1:\n",
    "                w+=1\n",
    "    if w>0:\n",
    "        return \"There is common Item\"\n",
    "    else:\n",
    "        return \"No common Item\"\n",
    "    \n",
    "print(w(a,b))\n"
   ]
  },
  {
   "cell_type": "markdown",
   "metadata": {},
   "source": [
    "Additional : Recordthe duplicate item"
   ]
  },
  {
   "cell_type": "code",
   "execution_count": 45,
   "metadata": {},
   "outputs": [
    {
     "data": {
      "text/plain": [
       "['1223']"
      ]
     },
     "execution_count": 45,
     "metadata": {},
     "output_type": "execute_result"
    }
   ],
   "source": [
    "a = [\"1223\",\"1234\",122]\n",
    "b = [True,\"1223\",\"12211\"]\n",
    "\n",
    "def w23(n1,n2):\n",
    "    h=[]\n",
    "    for n1_1 in n1:\n",
    "        for n2_1 in n2:\n",
    "            if n1_1 == n2_1:\n",
    "                h.append(n1_1)\n",
    "    return h\n",
    "    \n",
    "w23(a,b)"
   ]
  },
  {
   "cell_type": "markdown",
   "metadata": {},
   "source": [
    "11) Write a python program to print a specified list after removing the 0th 4th and 5th elements."
   ]
  },
  {
   "cell_type": "code",
   "execution_count": 47,
   "metadata": {},
   "outputs": [
    {
     "name": "stdout",
     "output_type": "stream",
     "text": [
      "['Green', 'White', 'Black']\n"
     ]
    }
   ],
   "source": [
    "sample = [\"Red\",\"Green\",\"White\",'Black',\"Pink\",\"Black\"]\n",
    "\n",
    "color = [x for (i,x) in enumerate(sample) if i not in (0,4,5) ]\n",
    "print(color)"
   ]
  },
  {
   "cell_type": "markdown",
   "metadata": {},
   "source": [
    "12) Write a python program to generate a 3x4x6 3 D array whose each element is *"
   ]
  },
  {
   "cell_type": "code",
   "execution_count": 52,
   "metadata": {},
   "outputs": [
    {
     "name": "stdout",
     "output_type": "stream",
     "text": [
      "[[['*', '*', '*'], ['*', '*', '*'], ['*', '*', '*'], ['*', '*', '*']], [['*', '*', '*'], ['*', '*', '*'], ['*', '*', '*'], ['*', '*', '*']], [['*', '*', '*'], ['*', '*', '*'], ['*', '*', '*'], ['*', '*', '*']], [['*', '*', '*'], ['*', '*', '*'], ['*', '*', '*'], ['*', '*', '*']], [['*', '*', '*'], ['*', '*', '*'], ['*', '*', '*'], ['*', '*', '*']], [['*', '*', '*'], ['*', '*', '*'], ['*', '*', '*'], ['*', '*', '*']]]\n"
     ]
    }
   ],
   "source": [
    "x = [[[\"*\" for col in range(3)] for row in range(4)] for z_axis in range(6)]\n",
    "\n",
    "print(x)"
   ]
  },
  {
   "cell_type": "markdown",
   "metadata": {},
   "source": [
    "13) Write a Python Program to print number of a specified list after removing even number from it"
   ]
  },
  {
   "cell_type": "code",
   "execution_count": 55,
   "metadata": {},
   "outputs": [
    {
     "name": "stdout",
     "output_type": "stream",
     "text": [
      "[1, 2331, 233]\n"
     ]
    }
   ],
   "source": [
    "k = [1, 2331, 233,232,122]\n",
    "\n",
    "x = [w for w in k if w%2!=0]\n",
    "print(x)"
   ]
  },
  {
   "cell_type": "markdown",
   "metadata": {},
   "source": [
    "14) Write a python porgram to shuffle and print a pecified list"
   ]
  },
  {
   "cell_type": "code",
   "execution_count": 56,
   "metadata": {},
   "outputs": [
    {
     "name": "stdout",
     "output_type": "stream",
     "text": [
      "['red', 'white', 'blue']\n"
     ]
    }
   ],
   "source": [
    "from random import shuffle\n",
    "\n",
    "color= [\"red\",\"blue\",\"white\"]\n",
    "shuffle(color)\n",
    "print(color)"
   ]
  },
  {
   "cell_type": "markdown",
   "metadata": {},
   "source": [
    "15) Write a python pragrm to generate and print a list of first and last 5 elements where the values are square of numbers between 1 and 30 (both included)"
   ]
  },
  {
   "cell_type": "code",
   "execution_count": 58,
   "metadata": {},
   "outputs": [
    {
     "name": "stdout",
     "output_type": "stream",
     "text": [
      "[1, 4, 9, 16, 25]\n",
      "[625, 676, 729, 784, 841]\n"
     ]
    }
   ],
   "source": [
    "w=[]\n",
    "for i in range(1,30):\n",
    "    w.append(i**2)\n",
    "\n",
    "print(w[:5])\n",
    "print(w[-5:])"
   ]
  },
  {
   "cell_type": "markdown",
   "metadata": {},
   "source": [
    "16) Write a python program to generate and print a list except for the first 5 elements, where the values are square of a number between 1 and 30 (both included)"
   ]
  },
  {
   "cell_type": "code",
   "execution_count": 59,
   "metadata": {},
   "outputs": [
    {
     "name": "stdout",
     "output_type": "stream",
     "text": [
      "[36, 49, 64, 81, 100, 121, 144, 169, 196, 225, 256, 289, 324, 361, 400, 441, 484, 529, 576, 625, 676, 729, 784, 841]\n"
     ]
    }
   ],
   "source": [
    "w=[]\n",
    "for i in range(1,30):\n",
    "    w.append(i**2)\n",
    "\n",
    "print(w[5:])"
   ]
  },
  {
   "cell_type": "markdown",
   "metadata": {},
   "source": [
    "17) Write a python program to generate all permutations of a list in python"
   ]
  },
  {
   "cell_type": "code",
   "execution_count": 95,
   "metadata": {},
   "outputs": [
    {
     "name": "stdout",
     "output_type": "stream",
     "text": [
      "(1, 2, 3, 212)\n",
      "(1, 2, 212, 3)\n",
      "(1, 3, 2, 212)\n",
      "(1, 3, 212, 2)\n",
      "(1, 212, 2, 3)\n",
      "(1, 212, 3, 2)\n",
      "(2, 1, 3, 212)\n",
      "(2, 1, 212, 3)\n",
      "(2, 3, 1, 212)\n",
      "(2, 3, 212, 1)\n",
      "(2, 212, 1, 3)\n",
      "(2, 212, 3, 1)\n",
      "(3, 1, 2, 212)\n",
      "(3, 1, 212, 2)\n",
      "(3, 2, 1, 212)\n",
      "(3, 2, 212, 1)\n",
      "(3, 212, 1, 2)\n",
      "(3, 212, 2, 1)\n",
      "(212, 1, 2, 3)\n",
      "(212, 1, 3, 2)\n",
      "(212, 2, 1, 3)\n",
      "(212, 2, 3, 1)\n",
      "(212, 3, 1, 2)\n",
      "(212, 3, 2, 1)\n",
      "[]\n"
     ]
    }
   ],
   "source": [
    "import itertools\n",
    "k = itertools.permutations([1,2,3,212])\n",
    "\n",
    "\n",
    "for w in k:\n",
    "    print(w)\n",
    "\n",
    "print(list(k))"
   ]
  },
  {
   "cell_type": "markdown",
   "metadata": {},
   "source": [
    "18) Write python program to get differences between the two lists"
   ]
  },
  {
   "cell_type": "code",
   "execution_count": 69,
   "metadata": {},
   "outputs": [
    {
     "name": "stdout",
     "output_type": "stream",
     "text": [
      "the different is 6\n"
     ]
    }
   ],
   "source": [
    "k = [12, 34 ,23 ,21]\n",
    "w = [12,32,21,23]\n",
    "h=[]\n",
    "for i in range(len(k)):\n",
    "    h.append(abs(k[i]-w[i]))\n",
    "print(\"the different is {}\".format(sum(h)))\n"
   ]
  },
  {
   "cell_type": "markdown",
   "metadata": {},
   "source": [
    "19) Write python program access the index of a list"
   ]
  },
  {
   "cell_type": "code",
   "execution_count": 78,
   "metadata": {},
   "outputs": [
    {
     "name": "stdout",
     "output_type": "stream",
     "text": [
      "[42]\n"
     ]
    }
   ],
   "source": [
    "k = [12,3,42,2]\n",
    "\n",
    "def index2(w,index):\n",
    "    print([x for (i,x) in enumerate(w) if i==index])\n",
    "\n",
    "index2(k,2)"
   ]
  },
  {
   "cell_type": "markdown",
   "metadata": {},
   "source": [
    "20) Write a python program to convert a list of characters into a string"
   ]
  },
  {
   "cell_type": "code",
   "execution_count": 81,
   "metadata": {},
   "outputs": [
    {
     "name": "stdout",
     "output_type": "stream",
     "text": [
      "abcd\n"
     ]
    }
   ],
   "source": [
    "Strin = [\"a\",\"b\",\"c\",\"d\"]\n",
    "k = ''.join(Strin)\n",
    "print(k)"
   ]
  },
  {
   "cell_type": "code",
   "execution_count": 83,
   "metadata": {},
   "outputs": [
    {
     "name": "stdout",
     "output_type": "stream",
     "text": [
      "abcd\n"
     ]
    }
   ],
   "source": [
    "e=\"\"\n",
    "for w in Strin:\n",
    "    e = e + w\n",
    "print(e)"
   ]
  },
  {
   "cell_type": "markdown",
   "metadata": {},
   "source": [
    "21) Write a python program to find the index of an item in a specified list"
   ]
  },
  {
   "cell_type": "code",
   "execution_count": 84,
   "metadata": {},
   "outputs": [
    {
     "name": "stdout",
     "output_type": "stream",
     "text": [
      "0\n"
     ]
    }
   ],
   "source": [
    "k = [12,32,22]\n",
    "w = k.index(12)\n",
    "print(w)"
   ]
  },
  {
   "cell_type": "markdown",
   "metadata": {},
   "source": [
    "22) Write a Python program to flatten a shallow list"
   ]
  },
  {
   "cell_type": "code",
   "execution_count": 119,
   "metadata": {},
   "outputs": [
    {
     "name": "stdout",
     "output_type": "stream",
     "text": [
      "<class 'list'>\n",
      "<class 'list'>\n",
      "<class 'int'>\n",
      "<class 'list'>\n",
      "[[2, 4, 3], [1, 5, 62], [9], [7, 9, 0]]\n",
      "[2, 4, 3, 1, 5, 62, 9, 7, 9, 0]\n"
     ]
    }
   ],
   "source": [
    "import itertools\n",
    "\n",
    "k = [[2,4,3],[1,5,62],9, [7,9,0]]\n",
    "for (i,ks) in enumerate(k):\n",
    "    print(type(ks))\n",
    "    if type(ks) is not list:\n",
    "        k[i]=[ks]\n",
    "print(k)\n",
    "com = list(itertools.chain(*k))\n",
    "print(com)"
   ]
  },
  {
   "cell_type": "markdown",
   "metadata": {},
   "source": []
  }
 ],
 "metadata": {
  "kernelspec": {
   "display_name": "Python 3",
   "language": "python",
   "name": "python3"
  },
  "language_info": {
   "codemirror_mode": {
    "name": "ipython",
    "version": 3
   },
   "file_extension": ".py",
   "mimetype": "text/x-python",
   "name": "python",
   "nbconvert_exporter": "python",
   "pygments_lexer": "ipython3",
   "version": "3.6.7"
  }
 },
 "nbformat": 4,
 "nbformat_minor": 2
}
